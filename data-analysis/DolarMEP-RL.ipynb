{
 "cells": [
  {
   "cell_type": "markdown",
   "metadata": {},
   "source": [
    "# Dolar MEP + Reinforcement Learning\n",
    "\n",
    "Armar un bot que decida si 'comprar AL30', 'vender AL30' o 'esperar', en funcion al estado del mercado y del agente (cantidad bonos AL30 tenidos, cantidad de pesos para commprar bonos) \n",
    "\n",
    "Complejidad:\n",
    "- Las acciones vender y comprar bonos tambien dependen de una cantidad (vendida o comprada respectivamente)\n",
    "\n",
    "Se puede intentar que la decision compra/venta no dependa del monto (siempre se compra/vende todo), y despues refactorizar el modelo para que admita distintas cantidades en funcion al riesgo que se quiera tomar."
   ]
  },
  {
   "cell_type": "code",
   "execution_count": 3,
   "metadata": {},
   "outputs": [],
   "source": [
    "class Environment:\n",
    "    def __init__(self):\n",
    "        self.Q = []\n",
    "        return\n",
    "    \n",
    "    def step(self, action):\n",
    "        return\n",
    "\n",
    "\n",
    "class Agent:\n",
    "    def __init__(self, initial_ars_peso, initial_usd=0, initial_al_30=0):\n",
    "        self.ars_peso = initial_ars_peso \n",
    "        self.usd = initial_usd\n",
    "        self.al_30 = initial_al_30\n",
    "\n",
    "    def available_actions(self, state):\n",
    "        \"\"\"\n",
    "        Returns the set of actions that the agent can take in the current state.\n",
    "        \"\"\"\n",
    "        total_actions = set([self.buy, self.sell, self.wait])\n",
    "        # If the agent has no AL30, it can't sell\n",
    "        if self.al_30 == 0:\n",
    "            total_actions.remove(self.sell)\n",
    "\n",
    "        # If the agent has no enough ARS, it can't buy\n",
    "        if state['mep_market_buy_price'] > self.ars_peso:\n",
    "            total_actions.remove(self.buy)\n",
    "\n",
    "        return total_actions        \n",
    "\n",
    "\n",
    "    def buy(self, amount, mep_market_price):\n",
    "        \"\"\" Agent buys AL30 with ARS \"\"\"\n",
    "        self.ars_peso -= amount\n",
    "        self.al_30 += amount/mep_market_price\n",
    "\n",
    "    def sell(self, amount, mep_market_price):\n",
    "        \"\"\" Agent sells AL30 and buys USD \"\"\"\n",
    "        self.usd += amount * mep_market_price\n",
    "        self.al_30 -= amount\n",
    "\n",
    "    def wait(self):\n",
    "        return"
   ]
  },
  {
   "cell_type": "code",
   "execution_count": null,
   "metadata": {},
   "outputs": [],
   "source": []
  }
 ],
 "metadata": {
  "kernelspec": {
   "display_name": ".venv",
   "language": "python",
   "name": "python3"
  },
  "language_info": {
   "codemirror_mode": {
    "name": "ipython",
    "version": 3
   },
   "file_extension": ".py",
   "mimetype": "text/x-python",
   "name": "python",
   "nbconvert_exporter": "python",
   "pygments_lexer": "ipython3",
   "version": "3.10.11"
  }
 },
 "nbformat": 4,
 "nbformat_minor": 2
}
